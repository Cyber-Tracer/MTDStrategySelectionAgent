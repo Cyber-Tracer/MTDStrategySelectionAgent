{
 "cells": [
  {
   "cell_type": "code",
   "execution_count": 1,
   "metadata": {},
   "outputs": [],
   "source": [
    "## Imports\n",
    "import glob\n",
    "import os\n",
    "import pandas as pd\n",
    "import numpy as np\n",
    "import matplotlib.pyplot as plt\n",
    "import seaborn as sns\n",
    "import statsmodels.api as sm\n",
    "import shutil\n",
    "import csv\n",
    "import yaml"
   ]
  },
  {
   "cell_type": "code",
   "execution_count": 13,
   "metadata": {},
   "outputs": [
    {
     "name": "stdout",
     "output_type": "stream",
     "text": [
      "                    protocol  recv-q  send-q local address  local port  \\\n",
      "timestamp                                                                \n",
      "2022-08-18 15:28:04      tcp       0       0  192.168.1.46          80   \n",
      "2022-08-18 15:28:04      tcp       0       0  192.168.1.46       53106   \n",
      "2022-08-18 15:28:04      tcp       0       0     127.0.0.1       43927   \n",
      "2022-08-18 15:28:04      tcp       0       0  192.168.1.46       56482   \n",
      "2022-08-18 15:28:04      tcp       0       0  192.168.1.46       40595   \n",
      "...                      ...     ...     ...           ...         ...   \n",
      "2022-08-18 15:33:11      tcp       0       0  192.168.1.46          80   \n",
      "2022-08-18 15:33:11      tcp       0       0  192.168.1.46       42396   \n",
      "2022-08-18 15:33:11      tcp       0       0     127.0.0.1       43927   \n",
      "2022-08-18 15:33:11      tcp       0       0     127.0.0.1       38076   \n",
      "2022-08-18 15:33:11      tcp       0       0  192.168.1.46       53106   \n",
      "\n",
      "                    foreign address  foreign port        state  user   inode  \n",
      "timestamp                                                                     \n",
      "2022-08-18 15:28:04     192.168.1.5         48552  ESTABLISHED   110   55148  \n",
      "2022-08-18 15:28:04  194.209.200.16          5001  ESTABLISHED     0   53561  \n",
      "2022-08-18 15:28:04       127.0.0.1         51082  ESTABLISHED     0  140689  \n",
      "2022-08-18 15:28:04  194.209.200.16           443  ESTABLISHED  1001   52693  \n",
      "2022-08-18 15:28:04  194.209.200.16          8883  ESTABLISHED     0   52553  \n",
      "...                             ...           ...          ...   ...     ...  \n",
      "2022-08-18 15:33:11     192.168.1.5         48552  ESTABLISHED   110   55148  \n",
      "2022-08-18 15:33:11  155.54.204.100          5002    TIME_WAIT     0       0  \n",
      "2022-08-18 15:33:11       127.0.0.1         51082  ESTABLISHED     0  140689  \n",
      "2022-08-18 15:33:11       127.0.0.1         43959  ESTABLISHED     0   52548  \n",
      "2022-08-18 15:33:11  194.209.200.16          5001  ESTABLISHED     0   53561  \n",
      "\n",
      "[5223 rows x 10 columns]\n",
      "                     protocol  recv-q  send-q  local address  local port  \\\n",
      "timestamp                                                                  \n",
      "2022-08-18 15:28:04        17      17      17             17          17   \n",
      "2022-08-18 15:28:05        18      18      18             18          18   \n",
      "2022-08-18 15:28:06        18      18      18             18          18   \n",
      "2022-08-18 15:28:07        18      18      18             18          18   \n",
      "2022-08-18 15:28:08        18      18      18             18          18   \n",
      "...                       ...     ...     ...            ...         ...   \n",
      "2022-08-18 15:33:07        15      15      15             15          15   \n",
      "2022-08-18 15:33:08        15      15      15             15          15   \n",
      "2022-08-18 15:33:09        15      15      15             15          15   \n",
      "2022-08-18 15:33:10        15      15      15             15          15   \n",
      "2022-08-18 15:33:11        16      16      16             16          16   \n",
      "\n",
      "                     foreign address  foreign port  state  user  inode  \n",
      "timestamp                                                               \n",
      "2022-08-18 15:28:04               17            17     17    17     17  \n",
      "2022-08-18 15:28:05               18            18     18    18     18  \n",
      "2022-08-18 15:28:06               18            18     18    18     18  \n",
      "2022-08-18 15:28:07               18            18     18    18     18  \n",
      "2022-08-18 15:28:08               18            18     18    18     18  \n",
      "...                              ...           ...    ...   ...    ...  \n",
      "2022-08-18 15:33:07               15            15     15    15     15  \n",
      "2022-08-18 15:33:08               15            15     15    15     15  \n",
      "2022-08-18 15:33:09               15            15     15    15     15  \n",
      "2022-08-18 15:33:10               15            15     15    15     15  \n",
      "2022-08-18 15:33:11               16            16     16    16     16  \n",
      "\n",
      "[300 rows x 10 columns]\n",
      "timestamp\n",
      "2022-08-18 15:28:04    17\n",
      "2022-08-18 15:28:05    18\n",
      "2022-08-18 15:28:06    18\n",
      "2022-08-18 15:28:07    18\n",
      "2022-08-18 15:28:08    18\n",
      "                       ..\n",
      "2022-08-18 15:33:07    15\n",
      "2022-08-18 15:33:08    15\n",
      "2022-08-18 15:33:09    15\n",
      "2022-08-18 15:33:10    15\n",
      "2022-08-18 15:33:11    16\n",
      "Name: protocol, Length: 300, dtype: int64\n"
     ]
    },
    {
     "data": {
      "text/plain": [
       "<AxesSubplot:xlabel='timestamp'>"
      ]
     },
     "execution_count": 13,
     "metadata": {},
     "output_type": "execute_result"
    },
    {
     "data": {
      "image/png": "[encoded data removed]",
      "text/plain": [
       "<Figure size 432x288 with 1 Axes>"
      ]
     },
     "metadata": {
      "needs_background": "light"
     },
     "output_type": "display_data"
    }
   ],
   "source": [
    "import netstatParser\n",
    "df = netstatParser.createNetstat()\n",
    "df.groupby('timestamp').count()['protocol'].plot(legend=True)"
   ]
  },
  {
   "cell_type": "code",
   "execution_count": 12,
   "metadata": {},
   "outputs": [
    {
     "name": "stdout",
     "output_type": "stream",
     "text": [
      "                    protocol  recv-q  send-q local address  local port  \\\n",
      "timestamp                                                                \n",
      "2022-08-18 15:28:04      tcp       0       0  192.168.1.46          80   \n",
      "2022-08-18 15:28:04      tcp       0       0  192.168.1.46       53106   \n",
      "2022-08-18 15:28:04      tcp       0       0     127.0.0.1       43927   \n",
      "2022-08-18 15:28:04      tcp       0       0  192.168.1.46       56482   \n",
      "2022-08-18 15:28:04      tcp       0       0  192.168.1.46       40595   \n",
      "...                      ...     ...     ...           ...         ...   \n",
      "2022-08-18 15:33:11      tcp       0       0  192.168.1.46          80   \n",
      "2022-08-18 15:33:11      tcp       0       0  192.168.1.46       42396   \n",
      "2022-08-18 15:33:11      tcp       0       0     127.0.0.1       43927   \n",
      "2022-08-18 15:33:11      tcp       0       0     127.0.0.1       38076   \n",
      "2022-08-18 15:33:11      tcp       0       0  192.168.1.46       53106   \n",
      "\n",
      "                    foreign address  foreign port        state  user   inode  \n",
      "timestamp                                                                     \n",
      "2022-08-18 15:28:04     192.168.1.5         48552  ESTABLISHED   110   55148  \n",
      "2022-08-18 15:28:04  194.209.200.16          5001  ESTABLISHED     0   53561  \n",
      "2022-08-18 15:28:04       127.0.0.1         51082  ESTABLISHED     0  140689  \n",
      "2022-08-18 15:28:04  194.209.200.16           443  ESTABLISHED  1001   52693  \n",
      "2022-08-18 15:28:04  194.209.200.16          8883  ESTABLISHED     0   52553  \n",
      "...                             ...           ...          ...   ...     ...  \n",
      "2022-08-18 15:33:11     192.168.1.5         48552  ESTABLISHED   110   55148  \n",
      "2022-08-18 15:33:11  155.54.204.100          5002    TIME_WAIT     0       0  \n",
      "2022-08-18 15:33:11       127.0.0.1         51082  ESTABLISHED     0  140689  \n",
      "2022-08-18 15:33:11       127.0.0.1         43959  ESTABLISHED     0   52548  \n",
      "2022-08-18 15:33:11  194.209.200.16          5001  ESTABLISHED     0   53561  \n",
      "\n",
      "[5223 rows x 10 columns]\n",
      "                     protocol  recv-q  send-q  local address  local port  \\\n",
      "timestamp                                                                  \n",
      "2022-08-18 15:28:04        17      17      17             17          17   \n",
      "2022-08-18 15:28:05        18      18      18             18          18   \n",
      "2022-08-18 15:28:06        18      18      18             18          18   \n",
      "2022-08-18 15:28:07        18      18      18             18          18   \n",
      "2022-08-18 15:28:08        18      18      18             18          18   \n",
      "...                       ...     ...     ...            ...         ...   \n",
      "2022-08-18 15:33:07        15      15      15             15          15   \n",
      "2022-08-18 15:33:08        15      15      15             15          15   \n",
      "2022-08-18 15:33:09        15      15      15             15          15   \n",
      "2022-08-18 15:33:10        15      15      15             15          15   \n",
      "2022-08-18 15:33:11        16      16      16             16          16   \n",
      "\n",
      "                     foreign address  foreign port  state  user  inode  \n",
      "timestamp                                                               \n",
      "2022-08-18 15:28:04               17            17     17    17     17  \n",
      "2022-08-18 15:28:05               18            18     18    18     18  \n",
      "2022-08-18 15:28:06               18            18     18    18     18  \n",
      "2022-08-18 15:28:07               18            18     18    18     18  \n",
      "2022-08-18 15:28:08               18            18     18    18     18  \n",
      "...                              ...           ...    ...   ...    ...  \n",
      "2022-08-18 15:33:07               15            15     15    15     15  \n",
      "2022-08-18 15:33:08               15            15     15    15     15  \n",
      "2022-08-18 15:33:09               15            15     15    15     15  \n",
      "2022-08-18 15:33:10               15            15     15    15     15  \n",
      "2022-08-18 15:33:11               16            16     16    16     16  \n",
      "\n",
      "[300 rows x 10 columns]\n"
     ]
    },
    {
     "data": {
      "text/plain": [
       "<AxesSubplot:xlabel='timestamp'>"
      ]
     },
     "execution_count": 12,
     "metadata": {},
     "output_type": "execute_result"
    },
    {
     "data": {
      "image/png": "[encoded data removed]",
      "text/plain": [
       "<Figure size 432x288 with 1 Axes>"
      ]
     },
     "metadata": {
      "needs_background": "light"
     },
     "output_type": "display_data"
    }
   ],
   "source": []
  },
  {
   "cell_type": "code",
   "execution_count": 11,
   "metadata": {},
   "outputs": [
    {
     "name": "stdout",
     "output_type": "stream",
     "text": [
      "timestamp\n",
      "2022-08-18 15:28:04    17\n",
      "2022-08-18 15:28:05    18\n",
      "2022-08-18 15:28:06    18\n",
      "2022-08-18 15:28:07    18\n",
      "2022-08-18 15:28:08    18\n",
      "                       ..\n",
      "2022-08-18 15:33:07    15\n",
      "2022-08-18 15:33:08    15\n",
      "2022-08-18 15:33:09    15\n",
      "2022-08-18 15:33:10    15\n",
      "2022-08-18 15:33:11    16\n",
      "Name: protocol, Length: 300, dtype: int64\n"
     ]
    }
   ],
   "source": [
    "print(df.groupby('timestamp').count()['protocol'])"
   ]
  }
 ],
 "metadata": {
  "kernelspec": {
   "display_name": "Python 3.9.7 ('base')",
   "language": "python",
   "name": "python3"
  },
  "language_info": {
   "codemirror_mode": {
    "name": "ipython",
    "version": 3
   },
   "file_extension": ".py",
   "mimetype": "text/x-python",
   "name": "python",
   "nbconvert_exporter": "python",
   "pygments_lexer": "ipython3",
   "version": "3.9.7"
  },
  "orig_nbformat": 4,
  "vscode": {
   "interpreter": {
    "hash": "4272f7ea1c4e95fb1b27e13d87cd225486e8821ea1e0748ea566c6cd3013dbc3"
   }
  }
 },
 "nbformat": 4,
 "nbformat_minor": 2
}
